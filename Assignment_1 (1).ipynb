{
 "cells": [
  {
   "cell_type": "code",
   "execution_count": null,
   "id": "fcafcbd9",
   "metadata": {},
   "outputs": [],
   "source": [
    "1. In the below elements which of them are values or an expression? eg:- values can be integer or string and expressions will be mathematical operators.\n",
    "\n",
    "*        Expression\n",
    "'hello'  Values\n",
    "-87.8    Expression\n",
    "-        Expression\n",
    "/        Expression\n",
    "+\t     Expression\n",
    "6        Values\n"
   ]
  },
  {
   "cell_type": "code",
   "execution_count": null,
   "id": "76be9518",
   "metadata": {},
   "outputs": [],
   "source": [
    "2. What is the difference between string and variable?\n",
    "\n",
    "sting is a cobbination of characters and variable is a place holder."
   ]
  },
  {
   "cell_type": "code",
   "execution_count": null,
   "id": "5fa3a975",
   "metadata": {},
   "outputs": [],
   "source": [
    "3. Describe three different data types.\n",
    "   int : Integer data type\n",
    "   Float: Floating point numbers\n",
    "   str: combination Charcters"
   ]
  },
  {
   "cell_type": "code",
   "execution_count": null,
   "id": "3e939ec6",
   "metadata": {},
   "outputs": [],
   "source": [
    "4. What is an expression made up of? What do all expressions do?\n",
    "  \n",
    "    Expression is combination of operand and operator that will produce some value."
   ]
  },
  {
   "cell_type": "code",
   "execution_count": null,
   "id": "6424f5e7",
   "metadata": {},
   "outputs": [],
   "source": [
    "5. This assignment statements, like spam = 10. What is the difference between an expression and a statement?\n",
    "    Expression evaluates to something and statement is an instruction does not product results."
   ]
  },
  {
   "cell_type": "code",
   "execution_count": null,
   "id": "53d3ab39",
   "metadata": {},
   "outputs": [],
   "source": [
    "6. After running the following code, what does the variable bacon contain?\n",
    "bacon = 22\n",
    "bacon + 1\n",
    "\n",
    "22"
   ]
  },
  {
   "cell_type": "code",
   "execution_count": null,
   "id": "5fd31568",
   "metadata": {},
   "outputs": [],
   "source": [
    "7. What should the values of the following two terms be?\n",
    "\n",
    "'spam' + 'spamspam'\n",
    "'spam' * 3\n",
    "ANS: 'spamspamspam'"
   ]
  },
  {
   "cell_type": "code",
   "execution_count": null,
   "id": "9b66c0b4",
   "metadata": {},
   "outputs": [],
   "source": [
    "8. Why is eggs a valid variable name while 100 is invalid?\n",
    "\n",
    "eggs is a string and 100 is a value that cant be changed."
   ]
  },
  {
   "cell_type": "code",
   "execution_count": null,
   "id": "00fa9d7b",
   "metadata": {},
   "outputs": [],
   "source": [
    "9. What three functions can be used to get the integer, floating-point number, or string version of a value?\n",
    " a=23\n",
    " str(a)\n",
    " int(a)\n",
    " float(a)"
   ]
  },
  {
   "cell_type": "code",
   "execution_count": 12,
   "id": "1f14c77e",
   "metadata": {},
   "outputs": [
    {
     "data": {
      "text/plain": [
       "23.0"
      ]
     },
     "execution_count": 12,
     "metadata": {},
     "output_type": "execute_result"
    }
   ],
   "source": [
    "10. Why does this expression cause an error? How can you fix it?\n",
    "'I have eaten ' + 99 + ' burritos.'\n",
    "99 is integer and needs to convert to string\n",
    "'I have eaten ' + '99' + ' burritos.'"
   ]
  }
 ],
 "metadata": {
  "kernelspec": {
   "display_name": "Python 3 (ipykernel)",
   "language": "python",
   "name": "python3"
  },
  "language_info": {
   "codemirror_mode": {
    "name": "ipython",
    "version": 3
   },
   "file_extension": ".py",
   "mimetype": "text/x-python",
   "name": "python",
   "nbconvert_exporter": "python",
   "pygments_lexer": "ipython3",
   "version": "3.9.12"
  }
 },
 "nbformat": 4,
 "nbformat_minor": 5
}
