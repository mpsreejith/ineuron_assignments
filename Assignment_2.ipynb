{
 "cells": [
  {
   "cell_type": "code",
   "execution_count": null,
   "id": "634915c8",
   "metadata": {},
   "outputs": [],
   "source": [
    "#1.What are the two values of the Boolean data type? How do you write them?\n",
    "\n",
    "True\n",
    "False"
   ]
  },
  {
   "cell_type": "code",
   "execution_count": null,
   "id": "0c40c7b9",
   "metadata": {},
   "outputs": [],
   "source": [
    "#2. What are the three different types of Boolean operators?\n",
    "\n",
    "and \n",
    "or\n",
    "not"
   ]
  },
  {
   "cell_type": "code",
   "execution_count": null,
   "id": "f7334203",
   "metadata": {},
   "outputs": [],
   "source": [
    "#3. Make a list of each Boolean operator's truth tables (i.e. every possible combination of Boolean values for the operator and what it evaluate ).\n",
    "\n",
    "A     B     A&B     A or B  NotA  NotB\n",
    "\n",
    "True  True  True     True   False False\n",
    "True  False False    True   False True\n",
    "False True  False    True   True  False\n",
    "False False False    False  True  True"
   ]
  },
  {
   "cell_type": "code",
   "execution_count": null,
   "id": "93417aff",
   "metadata": {},
   "outputs": [],
   "source": [
    "#4. What are the values of the following expressions?\n",
    "\n",
    "(5 > 4) and (3 == 5)               False\n",
    "not (5 > 4)                        False\n",
    "(5 > 4) or (3 == 5)                True\n",
    "not ((5 > 4) or (3 == 5))          False\n",
    "(True and True) and (True == False)False\n",
    "(not False) or (not True)          True\n"
   ]
  },
  {
   "cell_type": "code",
   "execution_count": null,
   "id": "68a9033b",
   "metadata": {},
   "outputs": [],
   "source": [
    "#5. What are the six comparison operators?\n",
    "\n",
    "<,>,<=,>=,==,!="
   ]
  },
  {
   "cell_type": "code",
   "execution_count": null,
   "id": "d1019e9a",
   "metadata": {},
   "outputs": [],
   "source": [
    "#6. How do you tell the difference between the equal to and assignment operators?Describe a condition and when you would use one.\n",
    "\n",
    "To compare we use '==' here it is checking right side equal to left.\n",
    "To assign we are using '=' here it is assigning right hand side value to left variable.\n",
    "\n",
    "abc=True\n",
    "\n",
    "if abc==True: #checking\n",
    "    value=20  #assigning"
   ]
  },
  {
   "cell_type": "code",
   "execution_count": null,
   "id": "9ccabc96",
   "metadata": {},
   "outputs": [],
   "source": [
    " #7. Identify the three blocks in this code:\n",
    "        \n",
    "spam = 0          #block1   \n",
    "if spam == 10:    #block2\n",
    "    print('eggs') #block2\n",
    "if spam > 5:      #block3\n",
    "    print('bacon')#block3\n",
    "else:             #block3 \n",
    "    print('ham')  #block3\n",
    "print('spam')     #block1\n",
    "print('spam')     #block1\n"
   ]
  },
  {
   "cell_type": "code",
   "execution_count": null,
   "id": "236752c4",
   "metadata": {},
   "outputs": [],
   "source": [
    "#8. Write code that prints Hello if 1 is stored in spam, prints Howdy if 2 is stored in spam, and prints Greetings! if anything else is stored in spam.\n",
    "\n",
    "spam=None\n",
    "\n",
    "if spam==1:\n",
    "    print('Hello')\n",
    "elif spam==2:\n",
    "    print('Howdy')\n",
    "else:\n",
    "    print('Gretings!')\n",
    "    "
   ]
  },
  {
   "cell_type": "code",
   "execution_count": null,
   "id": "37b93f55",
   "metadata": {},
   "outputs": [],
   "source": [
    "#9.If your programme is stuck in an endless loop, what keys you’ll press?\n",
    "\n",
    "CTRL+C"
   ]
  },
  {
   "cell_type": "code",
   "execution_count": null,
   "id": "83f3f9ae",
   "metadata": {},
   "outputs": [],
   "source": [
    "#10. How can you tell the difference between break and continue?\n",
    "\n",
    "Break will exit the loop and control pass to next block. Continue statement pass the control again to start of the loop."
   ]
  },
  {
   "cell_type": "code",
   "execution_count": null,
   "id": "6b443dcc",
   "metadata": {},
   "outputs": [],
   "source": [
    "#11. In a for loop, what is the difference between range(10), range(0, 10), and range(0, 10, 1)?\n",
    "\n",
    "all are same range(10) has default start at 0 and increment of 1."
   ]
  },
  {
   "cell_type": "code",
   "execution_count": null,
   "id": "0560ee41",
   "metadata": {},
   "outputs": [],
   "source": [
    "#12. Write a short program that prints the numbers 1 to 10 using a for loop. Then write an equivalent program that prints the numbers 1 to 10 using a while loop.\n",
    "\n",
    "for i in range(1,11):\n",
    "    print(i)\n",
    "\n",
    "a=1\n",
    "while a<11:\n",
    "    print(a)\n",
    "    a+=1"
   ]
  },
  {
   "cell_type": "code",
   "execution_count": null,
   "id": "c5d97f41",
   "metadata": {},
   "outputs": [],
   "source": [
    "#13. If you had a function named bacon() inside a module named spam, how would you call it after importing spam?\n",
    "\n",
    "import spam\n",
    "\n",
    "spam.bacon()"
   ]
  }
 ],
 "metadata": {
  "kernelspec": {
   "display_name": "Python 3 (ipykernel)",
   "language": "python",
   "name": "python3"
  },
  "language_info": {
   "codemirror_mode": {
    "name": "ipython",
    "version": 3
   },
   "file_extension": ".py",
   "mimetype": "text/x-python",
   "name": "python",
   "nbconvert_exporter": "python",
   "pygments_lexer": "ipython3",
   "version": "3.9.12"
  }
 },
 "nbformat": 4,
 "nbformat_minor": 5
}
