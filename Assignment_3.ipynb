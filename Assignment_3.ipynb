{
 "cells": [
  {
   "cell_type": "markdown",
   "id": "5da2ae65",
   "metadata": {},
   "source": [
    "1. Why are functions advantageous to have in your programs?"
   ]
  },
  {
   "cell_type": "markdown",
   "id": "851ecbe8",
   "metadata": {},
   "source": [
    "No need to write repeated codes you can directly call the fuction and get the desired result."
   ]
  },
  {
   "cell_type": "markdown",
   "id": "41ed5838",
   "metadata": {},
   "source": [
    "2. When does the code in a function run: when it's specified or when it's called?"
   ]
  },
  {
   "cell_type": "markdown",
   "id": "52c76970",
   "metadata": {},
   "source": [
    "whe it's called."
   ]
  },
  {
   "cell_type": "markdown",
   "id": "fdfb612d",
   "metadata": {},
   "source": [
    "3. What statement creates a function?"
   ]
  },
  {
   "cell_type": "markdown",
   "id": "ff24267a",
   "metadata": {},
   "source": [
    "def keysword with proper syntax. example def add ():"
   ]
  },
  {
   "cell_type": "markdown",
   "id": "cf24c160",
   "metadata": {},
   "source": [
    "4. What is the difference between a function and a function call?"
   ]
  },
  {
   "cell_type": "markdown",
   "id": "2c07ff17",
   "metadata": {},
   "source": [
    "A function is where it is defined and a call to that function will trigger that function."
   ]
  },
  {
   "cell_type": "markdown",
   "id": "8e3dca4c",
   "metadata": {},
   "source": [
    "5. How many global scopes are there in a Python program? How many local scopes?"
   ]
  },
  {
   "cell_type": "markdown",
   "id": "e025cb3d",
   "metadata": {},
   "source": [
    "global scope is one and local scope can be many"
   ]
  },
  {
   "cell_type": "code",
   "execution_count": null,
   "id": "d7c27811",
   "metadata": {},
   "outputs": [],
   "source": [
    "6. What happens to variables in a local scope when the function call returns?"
   ]
  },
  {
   "cell_type": "markdown",
   "id": "bad44af8",
   "metadata": {},
   "source": [
    "will not be accessable any more."
   ]
  },
  {
   "cell_type": "markdown",
   "id": "8e38ef27",
   "metadata": {},
   "source": [
    "7. What is the concept of a return value? Is it possible to have a return value in an expression?"
   ]
  },
  {
   "cell_type": "markdown",
   "id": "9619afa0",
   "metadata": {},
   "source": [
    "Return value is like what needs to give out after execution of function. No"
   ]
  },
  {
   "cell_type": "markdown",
   "id": "7c85db2e",
   "metadata": {},
   "source": [
    "8. If a function does not have a return statement, what is the return value of a call to that function?"
   ]
  },
  {
   "cell_type": "markdown",
   "id": "5fa27437",
   "metadata": {},
   "source": [
    "None."
   ]
  },
  {
   "cell_type": "markdown",
   "id": "25dd376d",
   "metadata": {},
   "source": [
    "9. How do you make a function variable refer to the global variable?"
   ]
  },
  {
   "cell_type": "markdown",
   "id": "3000b3b7",
   "metadata": {},
   "source": [
    "we use global keyword"
   ]
  },
  {
   "cell_type": "markdown",
   "id": "f195c61e",
   "metadata": {},
   "source": [
    "10. What is the data type of None?"
   ]
  },
  {
   "cell_type": "markdown",
   "id": "3dfbaa3d",
   "metadata": {},
   "source": [
    "Nonetype"
   ]
  },
  {
   "cell_type": "markdown",
   "id": "6e428f35",
   "metadata": {},
   "source": [
    "11. What does the sentence import areallyourpetsnamederic do?"
   ]
  },
  {
   "cell_type": "markdown",
   "id": "6feb904f",
   "metadata": {},
   "source": [
    "we are importing a class called areallyourpetsnamederic"
   ]
  },
  {
   "cell_type": "markdown",
   "id": "2e1efead",
   "metadata": {},
   "source": [
    "12. If you had a bacon() feature in a spam module, what would you call it after importing spam?"
   ]
  },
  {
   "cell_type": "markdown",
   "id": "65ae0229",
   "metadata": {},
   "source": [
    "spam.bacon()"
   ]
  },
  {
   "cell_type": "markdown",
   "id": "e7710d9f",
   "metadata": {},
   "source": [
    "13. What can you do to save a programme from crashing if it encounters an error?"
   ]
  },
  {
   "cell_type": "markdown",
   "id": "445fef89",
   "metadata": {},
   "source": [
    "create exception handling methods."
   ]
  },
  {
   "cell_type": "markdown",
   "id": "a641d659",
   "metadata": {},
   "source": [
    "14. What is the purpose of the try clause? What is the purpose of the except clause?"
   ]
  },
  {
   "cell_type": "markdown",
   "id": "3434bed3",
   "metadata": {},
   "source": [
    "Try clause is where the code can be failed and except block will handle possible errors and help in continuing the code execution."
   ]
  }
 ],
 "metadata": {
  "kernelspec": {
   "display_name": "Python 3 (ipykernel)",
   "language": "python",
   "name": "python3"
  },
  "language_info": {
   "codemirror_mode": {
    "name": "ipython",
    "version": 3
   },
   "file_extension": ".py",
   "mimetype": "text/x-python",
   "name": "python",
   "nbconvert_exporter": "python",
   "pygments_lexer": "ipython3",
   "version": "3.9.12"
  }
 },
 "nbformat": 4,
 "nbformat_minor": 5
}
