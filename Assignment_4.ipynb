{
 "cells": [
  {
   "cell_type": "code",
   "execution_count": null,
   "id": "e8a0a605",
   "metadata": {},
   "outputs": [],
   "source": [
    "1. What exactly is []?\n",
    "\n",
    "An empty List"
   ]
  },
  {
   "cell_type": "code",
   "execution_count": null,
   "id": "18a1bb25",
   "metadata": {},
   "outputs": [],
   "source": [
    "2. In a list of values stored in a variable called spam, how would you assign the value 'hello' as the third value? (Assume [2, 4, 6, 8, 10] are in spam.)\n",
    "\n",
    "spam.insert(2,'hello')\n"
   ]
  },
  {
   "cell_type": "markdown",
   "id": "6f496b96",
   "metadata": {},
   "source": [
    "3. What is the value of spam[int(int('3' * 2) / 11)]?"
   ]
  },
  {
   "cell_type": "code",
   "execution_count": 13,
   "id": "7a6a0476",
   "metadata": {},
   "outputs": [
    {
     "data": {
      "text/plain": [
       "'d'"
      ]
     },
     "execution_count": 13,
     "metadata": {},
     "output_type": "execute_result"
    }
   ],
   "source": [
    "'d'"
   ]
  },
  {
   "cell_type": "markdown",
   "id": "41e56e9f",
   "metadata": {},
   "source": [
    "4. What is the value of spam[-1]?"
   ]
  },
  {
   "cell_type": "code",
   "execution_count": null,
   "id": "f658c583",
   "metadata": {},
   "outputs": [],
   "source": [
    "'d'"
   ]
  },
  {
   "cell_type": "markdown",
   "id": "527632d4",
   "metadata": {},
   "source": [
    "5. What is the value of spam[:2]?"
   ]
  },
  {
   "cell_type": "code",
   "execution_count": null,
   "id": "4e957a6f",
   "metadata": {},
   "outputs": [],
   "source": [
    "['a','b']"
   ]
  },
  {
   "cell_type": "markdown",
   "id": "4c05e9ba",
   "metadata": {},
   "source": [
    "6. What is the value of bacon.index('cat')?"
   ]
  },
  {
   "cell_type": "code",
   "execution_count": null,
   "id": "214c6e35",
   "metadata": {},
   "outputs": [],
   "source": [
    "1"
   ]
  },
  {
   "cell_type": "markdown",
   "id": "651afb48",
   "metadata": {},
   "source": [
    "7. How does bacon.append(99) change the look of the list value in bacon?"
   ]
  },
  {
   "cell_type": "code",
   "execution_count": 9,
   "id": "56018c24",
   "metadata": {},
   "outputs": [],
   "source": [
    "[3.14, 'cat', 11, 'cat', True,99] "
   ]
  },
  {
   "cell_type": "markdown",
   "id": "b92a009f",
   "metadata": {},
   "source": [
    "8. How does bacon.remove('cat') change the look of the list in bacon?"
   ]
  },
  {
   "cell_type": "markdown",
   "id": "7d7ac245",
   "metadata": {},
   "source": [
    "[3.14, 11, 'cat', True]"
   ]
  },
  {
   "cell_type": "markdown",
   "id": "6ebd5c8d",
   "metadata": {},
   "source": [
    "9. What are the list concatenation and list replication operators?"
   ]
  },
  {
   "cell_type": "markdown",
   "id": "cac5ca17",
   "metadata": {},
   "source": [
    "concatenate means combine two lists we use '+' and for replication means repeating the same multiple times we use '*'"
   ]
  },
  {
   "cell_type": "markdown",
   "id": "23219802",
   "metadata": {},
   "source": [
    "10. What is difference between the list methods append() and insert()?"
   ]
  },
  {
   "cell_type": "markdown",
   "id": "f3a5b5bf",
   "metadata": {},
   "source": [
    "append insert the value at the last position and insert we need to specify the position."
   ]
  },
  {
   "cell_type": "markdown",
   "id": "d7fff873",
   "metadata": {},
   "source": [
    "11. What are the two methods for removing items from a list?"
   ]
  },
  {
   "cell_type": "markdown",
   "id": "82277ad7",
   "metadata": {},
   "source": [
    "pop(index) and remove(item)"
   ]
  },
  {
   "cell_type": "markdown",
   "id": "a7bcf9d8",
   "metadata": {},
   "source": [
    "12. Describe how list values and string values are identical."
   ]
  },
  {
   "cell_type": "markdown",
   "id": "4fd57a1d",
   "metadata": {},
   "source": [
    "Both list and string can be iterate through indexes."
   ]
  },
  {
   "cell_type": "markdown",
   "id": "3cd2c6a5",
   "metadata": {},
   "source": [
    "13. What's the difference between tuples and lists?"
   ]
  },
  {
   "cell_type": "markdown",
   "id": "b03b82a9",
   "metadata": {},
   "source": [
    "Tuple is immutable means we cannot chnage the values from tuple . List is mutable so we can update values in the list.\n",
    "tuple:(1,2,4)\n",
    "list:[1,2,4]"
   ]
  },
  {
   "cell_type": "markdown",
   "id": "5b29eed0",
   "metadata": {},
   "source": [
    "14. How do you type a tuple value that only contains the integer 42?"
   ]
  },
  {
   "cell_type": "code",
   "execution_count": 21,
   "id": "22553557",
   "metadata": {},
   "outputs": [],
   "source": [
    "a=(42,)"
   ]
  },
  {
   "cell_type": "markdown",
   "id": "b186df3a",
   "metadata": {},
   "source": [
    "15. How do you get a list value's tuple form? How do you get a tuple value's list form?"
   ]
  },
  {
   "cell_type": "code",
   "execution_count": 24,
   "id": "fcb68824",
   "metadata": {},
   "outputs": [
    {
     "data": {
      "text/plain": [
       "[1, 2, 3]"
      ]
     },
     "execution_count": 24,
     "metadata": {},
     "output_type": "execute_result"
    }
   ],
   "source": [
    "a=[1,2,3]\n",
    "\n",
    "tuple(a)\n",
    "list(a)"
   ]
  },
  {
   "cell_type": "markdown",
   "id": "dcc340e4",
   "metadata": {},
   "source": [
    "16. Variables that \"contain\" list values are not necessarily lists themselves. Instead, what do they contain?"
   ]
  },
  {
   "cell_type": "code",
   "execution_count": null,
   "id": "f41d4739",
   "metadata": {},
   "outputs": [],
   "source": [
    "a reference of memory location where list actually holds."
   ]
  },
  {
   "cell_type": "markdown",
   "id": "6a88a03c",
   "metadata": {},
   "source": [
    "17. How do you distinguish between copy.copy() and copy.deepcopy()?"
   ]
  },
  {
   "cell_type": "code",
   "execution_count": null,
   "id": "fb8dd7b5",
   "metadata": {},
   "outputs": [],
   "source": [
    "in copy() it create new object by coping the orginal list but nested elements will have reference to back to orginal list. In deepcopy there is no reference entirely new copy."
   ]
  }
 ],
 "metadata": {
  "kernelspec": {
   "display_name": "Python 3 (ipykernel)",
   "language": "python",
   "name": "python3"
  },
  "language_info": {
   "codemirror_mode": {
    "name": "ipython",
    "version": 3
   },
   "file_extension": ".py",
   "mimetype": "text/x-python",
   "name": "python",
   "nbconvert_exporter": "python",
   "pygments_lexer": "ipython3",
   "version": "3.9.12"
  }
 },
 "nbformat": 4,
 "nbformat_minor": 5
}
