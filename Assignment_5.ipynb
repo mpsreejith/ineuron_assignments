{
 "cells": [
  {
   "cell_type": "markdown",
   "id": "3c2c1986",
   "metadata": {},
   "source": [
    "1. What does an empty dictionary's code look like?"
   ]
  },
  {
   "cell_type": "code",
   "execution_count": null,
   "id": "e0fd6acb",
   "metadata": {},
   "outputs": [],
   "source": [
    "{} or dict()"
   ]
  },
  {
   "cell_type": "markdown",
   "id": "beeaef62",
   "metadata": {},
   "source": [
    "2. What is the value of a dictionary value with the key 'foo' and the value 42?"
   ]
  },
  {
   "cell_type": "code",
   "execution_count": null,
   "id": "a69ef421",
   "metadata": {},
   "outputs": [],
   "source": [
    "abc={'foo':42}\n",
    "\n",
    "abc['foo']"
   ]
  },
  {
   "cell_type": "markdown",
   "id": "9cf1493c",
   "metadata": {},
   "source": [
    "3. What is the most significant distinction between a dictionary and a list?"
   ]
  },
  {
   "cell_type": "code",
   "execution_count": null,
   "id": "a6b4f127",
   "metadata": {},
   "outputs": [],
   "source": [
    "In dictionary elements are ordered in key value pair and in list is just ordered collection."
   ]
  },
  {
   "cell_type": "markdown",
   "id": "b252ed01",
   "metadata": {},
   "source": [
    "4. What happens if you try to access spam['foo'] if spam is {'bar': 100}?"
   ]
  },
  {
   "cell_type": "code",
   "execution_count": null,
   "id": "b9f672f1",
   "metadata": {},
   "outputs": [],
   "source": [
    "Error key not found."
   ]
  },
  {
   "cell_type": "markdown",
   "id": "1de54bff",
   "metadata": {},
   "source": [
    "5. If a dictionary is stored in spam, what is the difference between the expressions 'cat' in spam and 'cat' in spam.keys()?"
   ]
  },
  {
   "cell_type": "markdown",
   "id": "a1b957b8",
   "metadata": {},
   "source": [
    "Both are same but first in method check weather key there in the keys or not. Second callas function keys() to get all keys and then checking happining."
   ]
  },
  {
   "cell_type": "markdown",
   "id": "fb1f5033",
   "metadata": {},
   "source": [
    "6. If a dictionary is stored in spam, what is the difference between the expressions 'cat' in spam and 'cat' in spam.values()?"
   ]
  },
  {
   "cell_type": "code",
   "execution_count": null,
   "id": "1256989e",
   "metadata": {},
   "outputs": [],
   "source": [
    "first one looks for key values like cat and second one look for values like cat."
   ]
  },
  {
   "cell_type": "markdown",
   "id": "fab32ac0",
   "metadata": {},
   "source": [
    "7. What is a shortcut for the following code?\n",
    "if 'color' not in spam:\n",
    "spam['color'] = 'black'\n"
   ]
  },
  {
   "cell_type": "code",
   "execution_count": null,
   "id": "4fe8277a",
   "metadata": {},
   "outputs": [],
   "source": [
    "abc.setdefault('color','black')"
   ]
  },
  {
   "cell_type": "markdown",
   "id": "e8f84e61",
   "metadata": {},
   "source": [
    "8. How do you \"pretty print\" dictionary values using which module and function?"
   ]
  },
  {
   "cell_type": "code",
   "execution_count": null,
   "id": "af28f9d7",
   "metadata": {},
   "outputs": [],
   "source": [
    "PPrint mudule and pprint() function"
   ]
  }
 ],
 "metadata": {
  "kernelspec": {
   "display_name": "Python 3 (ipykernel)",
   "language": "python",
   "name": "python3"
  },
  "language_info": {
   "codemirror_mode": {
    "name": "ipython",
    "version": 3
   },
   "file_extension": ".py",
   "mimetype": "text/x-python",
   "name": "python",
   "nbconvert_exporter": "python",
   "pygments_lexer": "ipython3",
   "version": "3.9.12"
  }
 },
 "nbformat": 4,
 "nbformat_minor": 5
}
