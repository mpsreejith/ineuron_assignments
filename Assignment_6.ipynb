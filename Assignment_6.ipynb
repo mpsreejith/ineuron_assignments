{
 "cells": [
  {
   "cell_type": "markdown",
   "id": "ab7ddd59",
   "metadata": {},
   "source": [
    "1. What are escape characters, and how do you use them?"
   ]
  },
  {
   "cell_type": "markdown",
   "id": "fefcf1f0",
   "metadata": {},
   "source": [
    "Characters with special meaning. like \\n,\\t usually with backslah then character."
   ]
  },
  {
   "cell_type": "markdown",
   "id": "2f3eb4dc",
   "metadata": {},
   "source": [
    "2. What do the escape characters n and t stand for?"
   ]
  },
  {
   "cell_type": "code",
   "execution_count": null,
   "id": "fd2fa0e9",
   "metadata": {},
   "outputs": [],
   "source": [
    "n for new line and t for tab space"
   ]
  },
  {
   "cell_type": "markdown",
   "id": "ccea38e5",
   "metadata": {},
   "source": [
    "3. What is the way to include backslash characters in a string?"
   ]
  },
  {
   "cell_type": "code",
   "execution_count": null,
   "id": "34ee5532",
   "metadata": {},
   "outputs": [],
   "source": [
    "we need to use doublt backslash"
   ]
  },
  {
   "cell_type": "markdown",
   "id": "4b6a167a",
   "metadata": {},
   "source": [
    "4. The string \"Howl's Moving Castle\" is a correct value. Why isn't the single quote character in the word Howl's not escaped a problem?"
   ]
  },
  {
   "cell_type": "code",
   "execution_count": null,
   "id": "161cd8bd",
   "metadata": {},
   "outputs": [],
   "source": [
    "total string is in a double quotes so we can include single quotes inside."
   ]
  },
  {
   "cell_type": "markdown",
   "id": "e87bfa1d",
   "metadata": {},
   "source": [
    "5. How do you write a string of newlines if you don't want to use the n character?"
   ]
  },
  {
   "cell_type": "code",
   "execution_count": null,
   "id": "df17c553",
   "metadata": {},
   "outputs": [],
   "source": [
    "you can use like this \"\"\" this \n",
    "is \n",
    "a multi line\n",
    "comment\"\"\""
   ]
  },
  {
   "cell_type": "markdown",
   "id": "b4a01f12",
   "metadata": {},
   "source": [
    "6. What are the values of the given expressions?\n",
    "'Hello, world!'[1] e\n",
    "'Hello, world!'[0:5] Hello\n",
    "'Hello, world!'[:5] Hello\n",
    "'Hello, world!'[3:] lo,world!\n"
   ]
  },
  {
   "cell_type": "markdown",
   "id": "0ca9ace9",
   "metadata": {},
   "source": [
    "7. What are the values of the following expressions?\n",
    "'Hello'.upper() --> HELLO\n",
    "'Hello'.upper().isupper()-->True\n",
    "'Hello'.upper().lower()-->hello\n"
   ]
  },
  {
   "cell_type": "markdown",
   "id": "dfe4902c",
   "metadata": {},
   "source": [
    "8. What are the values of the following expressions?\n",
    "'Remember, remember, the fifth of July.'.split()\n",
    "'-'.join('There can only one.'.split())\n"
   ]
  },
  {
   "cell_type": "code",
   "execution_count": null,
   "id": "0ac5555c",
   "metadata": {},
   "outputs": [],
   "source": [
    "'Remember, remember, the fifth of July.'.split()\n",
    "['Remember,','remember,','the','fifth','of','July.']\n",
    "\n",
    "There-can-only-one."
   ]
  },
  {
   "cell_type": "markdown",
   "id": "6a18aa3d",
   "metadata": {},
   "source": [
    "9. What are the methods for right-justifying, left-justifying, and centering a string?"
   ]
  },
  {
   "cell_type": "code",
   "execution_count": null,
   "id": "ba6db48c",
   "metadata": {},
   "outputs": [],
   "source": [
    "string.rjust,string.ljust,string.center\n"
   ]
  },
  {
   "cell_type": "markdown",
   "id": "03bc2b62",
   "metadata": {},
   "source": [
    "10. What is the best way to remove whitespace characters from the start or end?"
   ]
  },
  {
   "cell_type": "code",
   "execution_count": null,
   "id": "2a92522d",
   "metadata": {},
   "outputs": [],
   "source": [
    "string.strip()"
   ]
  }
 ],
 "metadata": {
  "kernelspec": {
   "display_name": "Python 3 (ipykernel)",
   "language": "python",
   "name": "python3"
  },
  "language_info": {
   "codemirror_mode": {
    "name": "ipython",
    "version": 3
   },
   "file_extension": ".py",
   "mimetype": "text/x-python",
   "name": "python",
   "nbconvert_exporter": "python",
   "pygments_lexer": "ipython3",
   "version": "3.9.12"
  }
 },
 "nbformat": 4,
 "nbformat_minor": 5
}
